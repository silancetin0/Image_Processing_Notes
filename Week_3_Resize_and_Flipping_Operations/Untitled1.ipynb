{
 "cells": [
  {
   "cell_type": "code",
   "execution_count": 3,
   "id": "c348df29-79a5-4655-ae68-948ea5b19c53",
   "metadata": {},
   "outputs": [],
   "source": [
    "import cv2\n",
    "import numpy as np"
   ]
  },
  {
   "cell_type": "code",
   "execution_count": 4,
   "id": "54a5c07e-5586-458e-943e-17d9edf623d6",
   "metadata": {},
   "outputs": [
    {
     "name": "stdout",
     "output_type": "stream",
     "text": [
      "(552, 736, 3)\n"
     ]
    }
   ],
   "source": [
    "my_img = cv2.imread(\"./aslan.jpg\",1)\n",
    "print(my_img.shape)"
   ]
  },
  {
   "cell_type": "code",
   "execution_count": 9,
   "id": "cfda52ff-d9f5-4d5d-9a94-4364a924c067",
   "metadata": {},
   "outputs": [],
   "source": [
    "cv2.imshow(\"RGB Image\",my_img)\n",
    "cv2.waitKey(0)\n",
    "cv2.destroyAllWindows()"
   ]
  },
  {
   "cell_type": "code",
   "execution_count": 10,
   "id": "74fb435e-ad8f-4fb2-b06b-91c5498798bd",
   "metadata": {},
   "outputs": [],
   "source": [
    "img_vertical = cv2.flip(my_img,0)\n",
    "img_horizontal = cv2.flip(my_img,1)\n",
    "img_both = cv2.flip(my_img,-1)"
   ]
  },
  {
   "cell_type": "code",
   "execution_count": 11,
   "id": "9a86d059-1ab2-4dd1-a5a8-af6b4ead797c",
   "metadata": {},
   "outputs": [],
   "source": [
    "cv2.imshow(\"Original Image\",my_img)\n",
    "cv2.imshow(\"Vertical Image\",img_vertical)\n",
    "cv2.imshow(\"Horizontal Image\",img_horizontal)\n",
    "cv2.imshow(\"Vertical and Horizontal Image\",img_both)\n",
    "cv2.waitKey(0)\n",
    "cv2.destroyAllWindows()"
   ]
  },
  {
   "cell_type": "code",
   "execution_count": 12,
   "id": "033ba625-fc65-4a02-8831-1c8cbcfe8b23",
   "metadata": {},
   "outputs": [
    {
     "data": {
      "text/plain": [
       "numpy.ndarray"
      ]
     },
     "execution_count": 12,
     "metadata": {},
     "output_type": "execute_result"
    }
   ],
   "source": [
    "type(my_img)"
   ]
  },
  {
   "cell_type": "code",
   "execution_count": 14,
   "id": "2a9d1c10-f843-4fc3-9469-6e82272543ed",
   "metadata": {},
   "outputs": [],
   "source": [
    "vertical_with_code = my_img[::-1,:,:]\n",
    "cv2.imshow(\"Vertical Image With Code\",vertical_with_code)\n",
    "cv2.waitKey(0)\n",
    "cv2.destroyAllWindows()"
   ]
  },
  {
   "cell_type": "code",
   "execution_count": 15,
   "id": "e8b1a8a3-0bba-41cf-9146-17c38a478965",
   "metadata": {},
   "outputs": [],
   "source": [
    "horizontal_with_code = my_img[:,::-1,:]\n",
    "cv2.imshow(\"Horizontal Image With Code\",horizontal_with_code)\n",
    "cv2.waitKey(0)\n",
    "cv2.destroyAllWindows()"
   ]
  },
  {
   "cell_type": "code",
   "execution_count": 16,
   "id": "3180d400-7f2f-4d5e-95a5-3dd32ab71a3e",
   "metadata": {},
   "outputs": [
    {
     "name": "stdout",
     "output_type": "stream",
     "text": [
      "(552, 736, 3)\n",
      "Görüntünün Yüksekliği= 552\n",
      "Görüntünün Genişliği= 552\n",
      "Görüntünün Kanal Sayısı= 552\n"
     ]
    }
   ],
   "source": [
    "print (my_img.shape)\n",
    "print(f\"Görüntünün Yüksekliği= {my_img.shape[0]}\")\n",
    "print(f\"Görüntünün Genişliği= {my_img.shape[0]}\")\n",
    "print(f\"Görüntünün Kanal Sayısı= {my_img.shape[0]}\")"
   ]
  },
  {
   "cell_type": "code",
   "execution_count": 6,
   "id": "a6754789-b112-433f-9546-ac7c855b975d",
   "metadata": {},
   "outputs": [],
   "source": [
    "resized_img = cv2.resize(my_img,(276,368),cv2.INTER_LANCZOS4)\n",
    "\n",
    "cv2.imshow(\"Original Image\",my_img)\n",
    "cv2.imshow(\"Resized Image\",resized_img)\n",
    "cv2.waitKey(0)\n",
    "cv2.destroyAllWindows()"
   ]
  }
 ],
 "metadata": {
  "kernelspec": {
   "display_name": "env_ybs",
   "language": "python",
   "name": "env_ybs"
  },
  "language_info": {
   "codemirror_mode": {
    "name": "ipython",
    "version": 3
   },
   "file_extension": ".py",
   "mimetype": "text/x-python",
   "name": "python",
   "nbconvert_exporter": "python",
   "pygments_lexer": "ipython3",
   "version": "3.10.10"
  }
 },
 "nbformat": 4,
 "nbformat_minor": 5
}
